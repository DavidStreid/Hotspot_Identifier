{
 "metadata": {
  "name": "",
  "signature": "sha256:ce6e8a7ba148288482bb63dd332065f191535eb49981738a53914407058a03a2"
 },
 "nbformat": 3,
 "nbformat_minor": 0,
 "worksheets": [
  {
   "cells": [
    {
     "cell_type": "markdown",
     "metadata": {},
     "source": [
      "##PseudoCode\n",
      "1) Get Ensembl ID (E.g. ENSG00000139618)\n",
      "2) \n"
     ]
    },
    {
     "cell_type": "code",
     "collapsed": false,
     "input": [
      "import requests, sys\n",
      " \n",
      "server = \"http://rest.ensembl.org\"\n",
      "ext = \"/sequence/id/ENSG00000139618?multiple_sequences=1;type=protein\"\n",
      " \n",
      "r = requests.get(server+ext, headers={ \"Content-Type\" : \"application/json\"})\n",
      " \n",
      "if not r.ok:\n",
      "  r.raise_for_status()\n",
      "  sys.exit()\n",
      " \n",
      "decoded = r.json()\n",
      "#print repr(decoded)"
     ],
     "language": "python",
     "metadata": {},
     "outputs": [],
     "prompt_number": 15
    },
    {
     "cell_type": "code",
     "collapsed": false,
     "input": [],
     "language": "python",
     "metadata": {},
     "outputs": []
    }
   ],
   "metadata": {}
  }
 ]
}