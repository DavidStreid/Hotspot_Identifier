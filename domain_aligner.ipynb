{
 "metadata": {
  "name": "",
  "signature": "sha256:ae2cf8992c2fcb1d7fd36ade14b2fee4a26a6124fa74daf162672fd98f6eb9c1"
 },
 "nbformat": 3,
 "nbformat_minor": 0,
 "worksheets": [
  {
   "cells": [
    {
     "cell_type": "markdown",
     "metadata": {},
     "source": [
      "## Outline\n",
      "### 1) Query Gene Names to find Amino Acid Sequences\n",
      "### 2) Compare AA Sequences\n",
      "### 3) Return \"virtual alignment\" - inclusion of pseduo Amino Acids so that pairs will be aligned in Cosmic\n",
      "### 4) Query Cosmic Database and account for AA differences\n"
     ]
    },
    {
     "cell_type": "code",
     "collapsed": false,
     "input": [
      "import requests, sys\n",
      "import csv\n",
      "\n",
      "# Grab the genes from the gene_domain_mappings.txt file\n",
      "genes=[]\n",
      "mapped_to_domains = []\n",
      "\n",
      "with open('gene_domain_mappings.txt','r') as f:\n",
      "    next(f) # Skip the headers in the file\n",
      "    reader=csv.reader(f,delimiter='\\t')\n",
      "    for i in reader:\n",
      "        genes.append(i[0])\n",
      "        mapped_to_domains.append(i[1])"
     ],
     "language": "python",
     "metadata": {},
     "outputs": [],
     "prompt_number": 98
    },
    {
     "cell_type": "code",
     "collapsed": false,
     "input": [
      "import json\n",
      "import Bio\n",
      "from Bio import Entrez\n",
      "import pandas as pd\n",
      "\n",
      "server = \"http://mygene.info\"\n",
      "ext = \"/v2/query?q=\"\n",
      "\n",
      "gene_name = []\n",
      "domains = []\n",
      "entrez_ids = []\n",
      "AA_sequences = []\n",
      "\n",
      "for i in range(len(genes)):\n",
      "    r = requests.get(server+ext+g, headers={ \"Content-Type\" : \"application/json\"})\n",
      "    gene_json = json.loads(r.content) # json object of gene_information for gene\n",
      "    gene_hits = gene_json['hits'] # accesses successful hits in the json object\n",
      "\n",
      "    g = genes[i]\n",
      "    for hit in gene_hits:\n",
      "        gene_name.append(g)\n",
      "        domains.append(mapped_to_domains[i])\n",
      "\n",
      "        if 'entrezgene' in hit: # Checks if the hit has an 'entrezgene' key\n",
      "            entrez_id = str(hit['entrezgene'])\n",
      "            entrez_ids.append(entrez_id)\n",
      "            \n",
      "            handle = Entrez.efetch(db=\"nucleotide\", id=entrez_id, rettype=\"fasta\", retmode=\"text\")\n",
      "            gene_info = handle.read()            \n",
      "            \n",
      "            AA_seq = \"\".join(gene_info.split(' ')[-1].split('\\n')[1:]) # Parse so that only the AA sequence is stored\n",
      "            if len(list(set(AA_seq))) != 4 and len(list(set(AA_seq))) != 5: # Exclude nucleotide sequences (A,C,T,G,N)\n",
      "                AA_sequences.append(AA_seq)\n",
      "            else:\n",
      "                AA_sequences.append(\"\")\n",
      "        else:  # There was no Entrez ID associated with the gene\n",
      "            entrez_ids.append(\"\")\n",
      "            AA_sequences.append(\"\")\n",
      "\n",
      "# Creating Dataframe\n",
      "d = {'gene': gene_name, 'entrez ID': entrez_ids, 'AA_seq': AA_sequences, 'domains': domains}\n",
      "df = pd.DataFrame(data = d)\n",
      "\n",
      "# Reordering columns\n",
      "cols = df.columns.tolist()\n",
      "cols = cols[-3:] + cols[:-3]\n",
      "df = df[cols]\n",
      "\n",
      "# Eliminating entries with incomplete information (Where AA )\n",
      "df = df[df.gene != \"\"]\n",
      "df = df[df.AA_seq != \"\"]"
     ],
     "language": "python",
     "metadata": {},
     "outputs": [],
     "prompt_number": 96
    },
    {
     "cell_type": "code",
     "collapsed": false,
     "input": [
      "# Output Data Frame as CSV\n",
      "import os\n",
      "path = os.getcwd() + \"/gene_AA_sequences.csv\"\n",
      "df.to_csv(path)"
     ],
     "language": "python",
     "metadata": {},
     "outputs": [],
     "prompt_number": 97
    },
    {
     "cell_type": "markdown",
     "metadata": {},
     "source": [
      "#Useful Links\n",
      "\n",
      "##http://stackoverflow.com/questions/13557981/getting-a-gene-sequence-from-entrez-using-biopython\n",
      "##Get nucleotide Sequence - http://rest.ensembl.org/documentation/info/sequence_id\n",
      "##http://docs.mygene.info/"
     ]
    },
    {
     "cell_type": "code",
     "collapsed": false,
     "input": [
      "server = \"http://mygene.info\"\n",
      "ext = \"/v2/query?q=\"\n",
      "\n",
      "http://cancer.sanger.ac.uk/api/ga4gh/beacon/query?chrom=?;pos=?;allele=?"
     ],
     "language": "python",
     "metadata": {},
     "outputs": []
    }
   ],
   "metadata": {}
  }
 ]
}