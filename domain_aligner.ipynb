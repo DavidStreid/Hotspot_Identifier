{
 "metadata": {
  "name": "",
  "signature": "sha256:53714a173e9cf359dd6c607dfbc4c1646c389d9182f06e9e74755e1584a05606"
 },
 "nbformat": 3,
 "nbformat_minor": 0,
 "worksheets": [
  {
   "cells": [
    {
     "cell_type": "markdown",
     "metadata": {},
     "source": [
      "##PseudoCode\n",
      "1) Get Ensembl ID (E.g. ENSG00000139618)\n",
      "2) Compare AA Sequences\n",
      "3) Return \n"
     ]
    },
    {
     "cell_type": "code",
     "collapsed": false,
     "input": [
      "import requests, sys\n",
      " \n",
      "server = \"http://rest.ensembl.org\"\n",
      "ext = \"/sequence/id/ENSG00000139618?multiple_sequences=1;type=protein\"\n",
      " \n",
      "r = requests.get(server+ext, headers={ \"Content-Type\" : \"application/json\"})\n",
      " \n",
      "if not r.ok:\n",
      "  r.raise_for_status()\n",
      "  sys.exit()\n",
      " \n",
      "decoded = r.json()\n",
      "#print repr(decoded)"
     ],
     "language": "python",
     "metadata": {},
     "outputs": [],
     "prompt_number": 15
    },
    {
     "cell_type": "code",
     "collapsed": false,
     "input": [],
     "language": "python",
     "metadata": {},
     "outputs": []
    }
   ],
   "metadata": {}
  }
 ]
}